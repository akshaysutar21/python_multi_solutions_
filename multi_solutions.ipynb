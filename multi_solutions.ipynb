{
  "nbformat": 4,
  "nbformat_minor": 0,
  "metadata": {
    "colab": {
      "name": "Practice .ipynb",
      "provenance": [],
      "collapsed_sections": []
    },
    "kernelspec": {
      "name": "python3",
      "display_name": "Python 3"
    },
    "language_info": {
      "name": "python"
    }
  },
  "cells": [
    {
      "cell_type": "code",
      "execution_count": null,
      "metadata": {
        "colab": {
          "base_uri": "https://localhost:8080/",
          "height": 107
        },
        "id": "9KkThi-B2CVc",
        "outputId": "74977a01-5670-438b-b8e5-6155fb15ac02"
      },
      "outputs": [
        {
          "output_type": "stream",
          "name": "stdout",
          "text": [
            "12\n",
            "24\n",
            "[12, 35, 9, 24, 56]\n"
          ]
        },
        {
          "output_type": "execute_result",
          "data": {
            "text/plain": [
              "'\\na=[10,20,30,40,50]\\na.insert(0,a.pop())\\na.append(a[1])\\na.remove(a[1])\\nprint(a)\\n\\n'"
            ],
            "application/vnd.google.colaboratory.intrinsic+json": {
              "type": "string"
            }
          },
          "metadata": {},
          "execution_count": 22
        }
      ],
      "source": [
        "# Python program to interchange first and last elements in a list\n",
        "# Given a list, write a Python program to swap first and last element of the list.\n",
        "# Examples: \n",
        "# Input : [12, 35, 9, 56, 24]\n",
        "# Output : [24, 35, 9, 56, 12]\n",
        "\n",
        "# Input : [1, 2, 3]\n",
        "# Output : [3, 2, 1]\n",
        "#method1\n",
        "'''\n",
        "l=[12, 35, 9, 56, 24]\n",
        "l[0],l[-1]=l[-1],l[0]\n",
        "print(l)'''\n",
        "#method2\n",
        "l=[12, 35, 9, 56, 24]\n",
        "b=l[0]\n",
        "c=l[-1]\n",
        "l.remove(l[0])\n",
        "l.remove(l[-1])\n",
        "l.insert(0,b)\n",
        "l.insert(-1,c)\n",
        "print(b)\n",
        "print(c)\n",
        "print(l)\n",
        "\n",
        "'''\n",
        "a=[10,20,30,40,50]\n",
        "a.insert(0,a.pop())\n",
        "a.append(a[1])\n",
        "a.remove(a[1])\n",
        "print(a)\n",
        "\n",
        "'''\n",
        "\n",
        "\n"
      ]
    },
    {
      "cell_type": "code",
      "source": [
        "# WAP to find length of list\n",
        "# The list is : [1, 4, 5, 7, 8]\n",
        "# Length of list is : 5\n",
        "\n",
        "'''\n",
        "l=[1, 4, 5, 7, 8]\n",
        "counter=0\n",
        "for i in l:\n",
        "  counter+=1\n",
        "print(counter) '''\n",
        "\n",
        "\n",
        "#method2\n",
        "\n",
        "'''\n",
        "l=[1, 4, 5, 7, 8]\n",
        "print(len(l))\n",
        "'''\n",
        "\n",
        "#method3\n",
        "\n",
        "\n",
        "\n",
        "\n"
      ],
      "metadata": {
        "colab": {
          "base_uri": "https://localhost:8080/"
        },
        "id": "-OZZj57a4B4L",
        "outputId": "d3ea75fa-5b3b-4d1d-8fe1-c264089c38a6"
      },
      "execution_count": null,
      "outputs": [
        {
          "output_type": "stream",
          "name": "stdout",
          "text": [
            "5\n"
          ]
        }
      ]
    },
    {
      "cell_type": "code",
      "source": [
        "# WAP to Check if element exists in list \n",
        "\n",
        "# Checking if 4 exists in list : \n",
        "# Element Exists\n",
        "\n",
        "\n",
        "#method1\n",
        "'''\n",
        "l=[1, 4, 5, 7, 8]\n",
        "b=int(input(\"enter no.\"))\n",
        "b in l\n",
        "'''\n",
        "#method2\n",
        "\n",
        "# a=[1, 4, 5, 7, 8]\n",
        "# b=str(a)\n",
        "# print(b)\n",
        "# b.find(str(8))\n",
        "#method2\n",
        "'''\n",
        "\n",
        "a=[1, 4, 5, 7, 8]\n",
        "b=int(input(\"enter number.\"))\n",
        "\n",
        "while len(a)>0:\n",
        "  c=a.pop()\n",
        "  if c==b:\n",
        "    print(\"true\")\n",
        "  elif len(a)>0:\n",
        "    a.pop()\n",
        "  else:\n",
        "    print(\"false\")\n",
        "'''\n",
        "\n",
        "a=[1,2,3,4,5,6]\n",
        "b=a.count(int(input()))\n",
        "if b>0:\n",
        "    print(True)\n",
        "else:\n",
        "  print(False)\n"
      ],
      "metadata": {
        "colab": {
          "base_uri": "https://localhost:8080/"
        },
        "id": "2HWC8DYH6CTi",
        "outputId": "eacac33d-1675-47f2-9d99-77e715281ec5"
      },
      "execution_count": null,
      "outputs": [
        {
          "output_type": "stream",
          "name": "stdout",
          "text": [
            "5\n",
            "True\n"
          ]
        }
      ]
    },
    {
      "cell_type": "code",
      "source": [
        "# WAP to clear a list\n",
        "# before clear: [6, 0, 4, 1]\n",
        "# after clear: []\n",
        "\n",
        "\n",
        "#method1\n",
        "'''\n",
        "a=[6, 0, 4, 1]\n",
        "a.clear()\n",
        "print(a)\n",
        "'''\n",
        "\n",
        "#method2\n",
        "\n",
        "a=[6, 0, 4, 1]\n",
        "for i in range(0,len(a)+1):\n",
        "  if len(a)>0:\n",
        "    a.pop()\n",
        "  else:\n",
        "   print(a)\n"
      ],
      "metadata": {
        "id": "r2GTCPGGGzQL",
        "colab": {
          "base_uri": "https://localhost:8080/"
        },
        "outputId": "1c0297ca-e882-4263-a08b-da013baf0347"
      },
      "execution_count": null,
      "outputs": [
        {
          "output_type": "stream",
          "name": "stdout",
          "text": [
            "[]\n"
          ]
        }
      ]
    },
    {
      "cell_type": "code",
      "source": [
        ""
      ],
      "metadata": {
        "id": "wWmxPcR19et8"
      },
      "execution_count": null,
      "outputs": []
    },
    {
      "cell_type": "code",
      "source": [
        "a=[6, 0, 4, 1]\n",
        "while len(a)>0:\n",
        "  c=a.pop()\n",
        "a"
      ],
      "metadata": {
        "colab": {
          "base_uri": "https://localhost:8080/"
        },
        "id": "1BuTiKtv38pU",
        "outputId": "06d4f702-33a2-4c18-a84a-afd81cc7e638"
      },
      "execution_count": null,
      "outputs": [
        {
          "output_type": "execute_result",
          "data": {
            "text/plain": [
              "[]"
            ]
          },
          "metadata": {},
          "execution_count": 1
        }
      ]
    },
    {
      "cell_type": "code",
      "source": [
        "a=[6, 0, 4, 1]\n",
        "#del a[2]\n",
        "#del a[:-1]\n",
        "del a[::-1]\n",
        "a"
      ],
      "metadata": {
        "colab": {
          "base_uri": "https://localhost:8080/"
        },
        "id": "tkITQV_O38sO",
        "outputId": "e156d268-2549-4c11-e91f-5c893d3adbc6"
      },
      "execution_count": null,
      "outputs": [
        {
          "output_type": "execute_result",
          "data": {
            "text/plain": [
              "[]"
            ]
          },
          "metadata": {},
          "execution_count": 15
        }
      ]
    },
    {
      "cell_type": "code",
      "source": [
        "a=[6, 0, 4, 1]\n",
        "a.sort(reverse=True)\n",
        "a"
      ],
      "metadata": {
        "colab": {
          "base_uri": "https://localhost:8080/"
        },
        "id": "2vXqMIBL9f9F",
        "outputId": "f124dff7-b3d8-4fbe-997b-303f71bd0790"
      },
      "execution_count": null,
      "outputs": [
        {
          "output_type": "execute_result",
          "data": {
            "text/plain": [
              "[6, 4, 1, 0]"
            ]
          },
          "metadata": {},
          "execution_count": 16
        }
      ]
    },
    {
      "cell_type": "code",
      "source": [
        "a=[6, 0, 4, 1]\n",
        "a=a[::-1]\n",
        "a"
      ],
      "metadata": {
        "colab": {
          "base_uri": "https://localhost:8080/"
        },
        "id": "bgTOvnAy9sfk",
        "outputId": "aecdafd9-b08c-44b1-9daa-9c79d034d463"
      },
      "execution_count": null,
      "outputs": [
        {
          "output_type": "execute_result",
          "data": {
            "text/plain": [
              "[1, 4, 0, 6]"
            ]
          },
          "metadata": {},
          "execution_count": 18
        }
      ]
    },
    {
      "cell_type": "code",
      "source": [
        "a=[6, 0, 4, 1]\n",
        "b=[]\n",
        "for i in range(len(a)):\n",
        "  b.insert(0,a[i])\n",
        "b\n"
      ],
      "metadata": {
        "colab": {
          "base_uri": "https://localhost:8080/"
        },
        "id": "-H_Y-jVP94W7",
        "outputId": "8de0ea64-7dbe-4e93-f259-fce8ccb28804"
      },
      "execution_count": null,
      "outputs": [
        {
          "output_type": "execute_result",
          "data": {
            "text/plain": [
              "[1, 4, 0, 6]"
            ]
          },
          "metadata": {},
          "execution_count": 19
        }
      ]
    },
    {
      "cell_type": "code",
      "source": [
        "a=[6, 0, 4, 1]\n",
        "b=[]\n",
        "for i in range(len(a)-1,-1,-1):\n",
        "  b.append(a[i])\n",
        "b"
      ],
      "metadata": {
        "colab": {
          "base_uri": "https://localhost:8080/"
        },
        "id": "C6RrKncK-wZa",
        "outputId": "7e02037b-38cc-483d-b1f6-74eab44b1c71"
      },
      "execution_count": null,
      "outputs": [
        {
          "output_type": "execute_result",
          "data": {
            "text/plain": [
              "[1, 4, 0, 6]"
            ]
          },
          "metadata": {},
          "execution_count": 24
        }
      ]
    },
    {
      "cell_type": "code",
      "source": [
        "a=[6, 0, 4, 1]\n",
        "\n",
        "j=-1\n",
        "for i in range(len(a)//2):\n",
        "  a[j],a[i]=a[i],a[j]\n",
        "  j-=1\n",
        "a"
      ],
      "metadata": {
        "colab": {
          "base_uri": "https://localhost:8080/"
        },
        "id": "YwmLuHy5AKOT",
        "outputId": "f2ab6c49-3eed-47ca-fce1-33fbb414f1f5"
      },
      "execution_count": null,
      "outputs": [
        {
          "output_type": "stream",
          "name": "stdout",
          "text": [
            "-2\n",
            "-3\n"
          ]
        },
        {
          "output_type": "execute_result",
          "data": {
            "text/plain": [
              "[1, 4, 0, 6]"
            ]
          },
          "metadata": {},
          "execution_count": 37
        }
      ]
    },
    {
      "cell_type": "code",
      "source": [
        "a=[6, 0, 4, 1]\n",
        "sum(a)"
      ],
      "metadata": {
        "colab": {
          "base_uri": "https://localhost:8080/"
        },
        "id": "4zl3_cnLCi4j",
        "outputId": "70bc74c5-de43-40a7-d4bc-fc5e3cb0bcdc"
      },
      "execution_count": null,
      "outputs": [
        {
          "output_type": "execute_result",
          "data": {
            "text/plain": [
              "11"
            ]
          },
          "metadata": {},
          "execution_count": 38
        }
      ]
    },
    {
      "cell_type": "code",
      "source": [
        "a=[6, 0, 4, 1]\n",
        "b=0\n",
        "for i in a:\n",
        " b=b+i\n",
        "b\n"
      ],
      "metadata": {
        "colab": {
          "base_uri": "https://localhost:8080/"
        },
        "id": "YieuanwfCobN",
        "outputId": "c534e707-59b2-43da-dadc-2a172ade25ef"
      },
      "execution_count": null,
      "outputs": [
        {
          "output_type": "execute_result",
          "data": {
            "text/plain": [
              "11"
            ]
          },
          "metadata": {},
          "execution_count": 47
        }
      ]
    },
    {
      "cell_type": "code",
      "source": [
        "a=[6, 0, 4, 1]\n",
        "b=a[::-1]\n",
        "s=0\n",
        "print(b)\n",
        "for i in range(len(a)):\n",
        "  print(i)\n",
        "  c=a[i]+b[i]\n",
        "  s+=c\n",
        " \n",
        "print(s//2)"
      ],
      "metadata": {
        "colab": {
          "base_uri": "https://localhost:8080/"
        },
        "id": "Ij5wHOSbDydQ",
        "outputId": "19ae07f6-adda-41f5-c904-c3576d08f5b3"
      },
      "execution_count": null,
      "outputs": [
        {
          "output_type": "stream",
          "name": "stdout",
          "text": [
            "[1, 4, 0, 6]\n",
            "0\n",
            "1\n",
            "2\n",
            "3\n",
            "11\n"
          ]
        }
      ]
    },
    {
      "cell_type": "code",
      "source": [
        "a=[6, 0, 4, 1]\n",
        "a.pop(a.index(max(a)))\n",
        "max(a)"
      ],
      "metadata": {
        "colab": {
          "base_uri": "https://localhost:8080/"
        },
        "id": "mn7atxYFHB9L",
        "outputId": "0e0de811-cc6a-41d7-a880-e5c2a547ea08"
      },
      "execution_count": null,
      "outputs": [
        {
          "output_type": "execute_result",
          "data": {
            "text/plain": [
              "4"
            ]
          },
          "metadata": {},
          "execution_count": 72
        }
      ]
    },
    {
      "cell_type": "code",
      "source": [
        "a=[6, 0, 4, 1]\n",
        "a.remove(max(a))\n",
        "max(a)"
      ],
      "metadata": {
        "colab": {
          "base_uri": "https://localhost:8080/"
        },
        "id": "-cxXkHxhKlip",
        "outputId": "f87bb2f4-d812-4ee3-996b-33272742d48f"
      },
      "execution_count": null,
      "outputs": [
        {
          "output_type": "execute_result",
          "data": {
            "text/plain": [
              "4"
            ]
          },
          "metadata": {},
          "execution_count": 74
        }
      ]
    },
    {
      "cell_type": "code",
      "source": [
        "a=[81,52,45,10,3,2,96]\n",
        "\n",
        "a.sort(reverse=True)\n",
        "a[:int(input(\" enter n\"))]"
      ],
      "metadata": {
        "colab": {
          "base_uri": "https://localhost:8080/"
        },
        "id": "Nj0zj9d1LGaI",
        "outputId": "1815d15d-aa2a-4a67-e463-1c90d5058796"
      },
      "execution_count": null,
      "outputs": [
        {
          "name": "stdout",
          "output_type": "stream",
          "text": [
            " enter n3\n"
          ]
        },
        {
          "output_type": "execute_result",
          "data": {
            "text/plain": [
              "[96, 81, 52]"
            ]
          },
          "metadata": {},
          "execution_count": 81
        }
      ]
    },
    {
      "cell_type": "code",
      "source": [
        "a=[81,52,45,10,3,2,96]\n",
        "b=[]\n",
        "for i in range (int(input(\" \"))):\n",
        "  b.append(max(a))\n",
        "  a.remove(max(a))\n",
        "b"
      ],
      "metadata": {
        "colab": {
          "base_uri": "https://localhost:8080/"
        },
        "id": "JdGTO6CNMeBu",
        "outputId": "56a1cfbd-077b-45d2-ab10-bcb3db1c57c3"
      },
      "execution_count": null,
      "outputs": [
        {
          "name": "stdout",
          "output_type": "stream",
          "text": [
            " 3\n"
          ]
        },
        {
          "output_type": "execute_result",
          "data": {
            "text/plain": [
              "[96, 81, 52]"
            ]
          },
          "metadata": {},
          "execution_count": 83
        }
      ]
    },
    {
      "cell_type": "code",
      "source": [
        "a=[81,52,45,10,3,2,96]\n"
      ],
      "metadata": {
        "id": "mofRpR0DNWAQ"
      },
      "execution_count": null,
      "outputs": []
    },
    {
      "cell_type": "code",
      "source": [
        ""
      ],
      "metadata": {
        "id": "9u1u3IvG2nhd"
      },
      "execution_count": null,
      "outputs": []
    },
    {
      "cell_type": "markdown",
      "source": [
        ""
      ],
      "metadata": {
        "id": "wKnnQNCXKlrf"
      }
    },
    {
      "cell_type": "code",
      "source": [
        "l=[]\n",
        "while True:\n",
        "  a=input(\"enter list elements\")\n",
        "  if a=='':\n",
        "    break\n",
        "  l.append(int(a))\n",
        "b=sorted(l)\n",
        "print(b)\n",
        "print(sum(b)/len(b))"
      ],
      "metadata": {
        "id": "BKhXIchj6X4L",
        "colab": {
          "base_uri": "https://localhost:8080/"
        },
        "outputId": "3e4b02f6-548a-47c9-c8e9-5145298c6e34"
      },
      "execution_count": null,
      "outputs": [
        {
          "output_type": "stream",
          "name": "stdout",
          "text": [
            "enter list elements12\n",
            "enter list elements32\n",
            "enter list elements14\n",
            "enter list elements16\n",
            "enter list elements18\n",
            "enter list elements22\n",
            "enter list elements\n",
            "[12, 14, 16, 18, 22, 32]\n",
            "19.0\n"
          ]
        }
      ]
    },
    {
      "cell_type": "code",
      "source": [
        "num=11\n",
        "\n",
        "for i in range(num+1):\n",
        "  if num >= 1:\n",
        "    num=num // 2\n",
        "    print(num % 2, end = '')\n",
        "  else:\n",
        "    break"
      ],
      "metadata": {
        "id": "9cTH2JZ03NW1",
        "colab": {
          "base_uri": "https://localhost:8080/"
        },
        "outputId": "382b23df-0b26-4b15-db7f-0df7300eaac6"
      },
      "execution_count": null,
      "outputs": [
        {
          "output_type": "stream",
          "name": "stdout",
          "text": [
            "1010"
          ]
        }
      ]
    },
    {
      "cell_type": "code",
      "source": [
        ""
      ],
      "metadata": {
        "id": "oYzw4DqjcZ1a"
      },
      "execution_count": null,
      "outputs": []
    }
  ]
}